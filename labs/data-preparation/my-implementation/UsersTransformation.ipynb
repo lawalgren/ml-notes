{
 "cells": [
  {
   "cell_type": "code",
   "execution_count": 10,
   "metadata": {},
   "outputs": [
    {
     "data": {
      "application/vnd.jupyter.widget-view+json": {
       "model_id": "",
       "version_major": 2,
       "version_minor": 0
      },
      "text/plain": [
       "FloatProgress(value=0.0, bar_style='info', description='Progress:', layout=Layout(height='25px', width='50%'),…"
      ]
     },
     "metadata": {},
     "output_type": "display_data"
    }
   ],
   "source": [
    "import sys\n",
    "from awsglue.transforms import *\n",
    "from awsglue.utils import getResolvedOptions\n",
    "from pyspark.context import SparkContext\n",
    "from awsglue.context import GlueContext\n",
    "from awsglue.job import Job\n",
    "\n",
    "glueContext = GlueContext(SparkContext.getOrCreate())"
   ]
  },
  {
   "cell_type": "code",
   "execution_count": 16,
   "metadata": {},
   "outputs": [
    {
     "data": {
      "application/vnd.jupyter.widget-view+json": {
       "model_id": "",
       "version_major": 2,
       "version_minor": 0
      },
      "text/plain": [
       "FloatProgress(value=0.0, bar_style='info', description='Progress:', layout=Layout(height='25px', width='50%'),…"
      ]
     },
     "metadata": {},
     "output_type": "display_data"
    },
    {
     "name": "stdout",
     "output_type": "stream",
     "text": [
      "Count: 429\n",
      "root\n",
      "|-- first_name: string\n",
      "|-- last_name: string\n",
      "|-- age: int\n",
      "|-- gender: string\n",
      "|-- latitude: string\n",
      "|-- longitude: string\n",
      "|-- partition_0: string\n",
      "|-- partition_1: string\n",
      "|-- partition_2: string\n",
      "|-- partition_3: string\n",
      "\n",
      "+----------+---------+---+------+--------+---------+-----------+-----------+-----------+-----------+\n",
      "|first_name|last_name|age|gender|latitude|longitude|partition_0|partition_1|partition_2|partition_3|\n",
      "+----------+---------+---+------+--------+---------+-----------+-----------+-----------+-----------+\n",
      "|      Jake|  Bradley| 71|  male| 17.9325| -55.2647|       2021|         01|         10|         06|\n",
      "|     Hymke|       Hu| 59|female| 47.1300| 157.8048|       2021|         01|         10|         06|\n",
      "|      Jack|     Wong| 26|  male|-67.9421|-118.7996|       2021|         01|         10|         06|\n",
      "|     Dylan|   Arnold| 33|  male| 23.8569|-158.2738|       2021|         01|         10|         06|\n",
      "|     یاسمن|     گلشن| 60|female| 32.5081|  40.4050|       2021|         01|         10|         06|\n",
      "|     Jenny|   Leroux| 24|female|-49.2292| 155.5982|       2021|         01|         10|         06|\n",
      "|    Ceyhun|  Çamdalı| 65|  male| 73.6430|-130.8003|       2021|         01|         10|         06|\n",
      "|      Milo|   Bonnet| 42|  male| -3.3526| -45.2023|       2021|         01|         10|         06|\n",
      "|     Tyler|     Ross| 29|  male| 15.5969|-105.8160|       2021|         01|         10|         06|\n",
      "|  Fernando|   Murray| 61|  male|-83.4109|-129.3067|       2021|         01|         10|         06|\n",
      "|     Kuzey|Karabulut| 39|  male| 77.5563| -82.6551|       2021|         01|         10|         06|\n",
      "|      Ülkü| Aşıkoğlu| 39|female| 75.8411| 107.0488|       2021|         01|         10|         06|\n",
      "|    Andrea|  Fuentes| 69|female|-18.4573|  46.6898|       2021|         01|         10|         06|\n",
      "|     Grace|    Adams| 24|female|-81.2294| 122.2057|       2021|         01|         10|         06|\n",
      "|      Olea| Birkedal| 41|female| 54.4272|  91.2478|       2021|         01|         10|         06|\n",
      "|   Yasemin|    Öymen| 70|female| 73.1539|  31.4908|       2021|         01|         10|         06|\n",
      "|    Rafael|   Dufour| 31|  male|  2.8694| -51.5714|       2021|         01|         10|         06|\n",
      "|   Roberto|    Wells| 23|  male| 19.9808|-129.1355|       2021|         01|         10|         06|\n",
      "|       Ray|  Freeman| 64|  male|-82.5291|-125.0900|       2021|         01|         10|         06|\n",
      "|    Olivia|    Adams| 29|female|  6.2956| 165.4988|       2021|         01|         10|         06|\n",
      "+----------+---------+---+------+--------+---------+-----------+-----------+-----------+-----------+\n",
      "only showing top 20 rows"
     ]
    }
   ],
   "source": [
    "users = glueContext.create_dynamic_frame.from_catalog(database=\"userdata\", table_name=\"streaming_data_test_123dasdf3\")\n",
    "print(\"Count: \" + str(users.count()))\n",
    "users.printSchema()\n",
    "users.toDF().show()"
   ]
  },
  {
   "cell_type": "code",
   "execution_count": 17,
   "metadata": {},
   "outputs": [
    {
     "data": {
      "application/vnd.jupyter.widget-view+json": {
       "model_id": "",
       "version_major": 2,
       "version_minor": 0
      },
      "text/plain": [
       "FloatProgress(value=0.0, bar_style='info', description='Progress:', layout=Layout(height='25px', width='50%'),…"
      ]
     },
     "metadata": {},
     "output_type": "display_data"
    },
    {
     "name": "stdout",
     "output_type": "stream",
     "text": [
      "+----------+---------+---+------+--------+---------+\n",
      "|first_name|last_name|age|gender|latitude|longitude|\n",
      "+----------+---------+---+------+--------+---------+\n",
      "|      Jake|  Bradley| 71|  male| 17.9325| -55.2647|\n",
      "|     Hymke|       Hu| 59|female| 47.1300| 157.8048|\n",
      "|      Jack|     Wong| 26|  male|-67.9421|-118.7996|\n",
      "|     Dylan|   Arnold| 33|  male| 23.8569|-158.2738|\n",
      "|     یاسمن|     گلشن| 60|female| 32.5081|  40.4050|\n",
      "|     Jenny|   Leroux| 24|female|-49.2292| 155.5982|\n",
      "|    Ceyhun|  Çamdalı| 65|  male| 73.6430|-130.8003|\n",
      "|      Milo|   Bonnet| 42|  male| -3.3526| -45.2023|\n",
      "|     Tyler|     Ross| 29|  male| 15.5969|-105.8160|\n",
      "|  Fernando|   Murray| 61|  male|-83.4109|-129.3067|\n",
      "|     Kuzey|Karabulut| 39|  male| 77.5563| -82.6551|\n",
      "|      Ülkü| Aşıkoğlu| 39|female| 75.8411| 107.0488|\n",
      "|    Andrea|  Fuentes| 69|female|-18.4573|  46.6898|\n",
      "|     Grace|    Adams| 24|female|-81.2294| 122.2057|\n",
      "|      Olea| Birkedal| 41|female| 54.4272|  91.2478|\n",
      "|   Yasemin|    Öymen| 70|female| 73.1539|  31.4908|\n",
      "|    Rafael|   Dufour| 31|  male|  2.8694| -51.5714|\n",
      "|   Roberto|    Wells| 23|  male| 19.9808|-129.1355|\n",
      "|       Ray|  Freeman| 64|  male|-82.5291|-125.0900|\n",
      "|    Olivia|    Adams| 29|female|  6.2956| 165.4988|\n",
      "+----------+---------+---+------+--------+---------+\n",
      "only showing top 20 rows"
     ]
    }
   ],
   "source": [
    "users = users.drop_fields(['partition_0', 'partition_1', 'partition_2', 'partition_3'])\n",
    "users.toDF().show()"
   ]
  },
  {
   "cell_type": "code",
   "execution_count": 18,
   "metadata": {},
   "outputs": [
    {
     "data": {
      "application/vnd.jupyter.widget-view+json": {
       "model_id": "",
       "version_major": 2,
       "version_minor": 0
      },
      "text/plain": [
       "FloatProgress(value=0.0, bar_style='info', description='Progress:', layout=Layout(height='25px', width='50%'),…"
      ]
     },
     "metadata": {},
     "output_type": "display_data"
    },
    {
     "name": "stdout",
     "output_type": "stream",
     "text": [
      "+----------+---------+---+------+--------+---------+-----------+\n",
      "|first_name|last_name|age|gender|latitude|longitude|genderIndex|\n",
      "+----------+---------+---+------+--------+---------+-----------+\n",
      "|      Jake|  Bradley| 71|  male| 17.9325| -55.2647|        0.0|\n",
      "|     Hymke|       Hu| 59|female| 47.1300| 157.8048|        1.0|\n",
      "|      Jack|     Wong| 26|  male|-67.9421|-118.7996|        0.0|\n",
      "|     Dylan|   Arnold| 33|  male| 23.8569|-158.2738|        0.0|\n",
      "|     یاسمن|     گلشن| 60|female| 32.5081|  40.4050|        1.0|\n",
      "|     Jenny|   Leroux| 24|female|-49.2292| 155.5982|        1.0|\n",
      "|    Ceyhun|  Çamdalı| 65|  male| 73.6430|-130.8003|        0.0|\n",
      "|      Milo|   Bonnet| 42|  male| -3.3526| -45.2023|        0.0|\n",
      "|     Tyler|     Ross| 29|  male| 15.5969|-105.8160|        0.0|\n",
      "|  Fernando|   Murray| 61|  male|-83.4109|-129.3067|        0.0|\n",
      "|     Kuzey|Karabulut| 39|  male| 77.5563| -82.6551|        0.0|\n",
      "|      Ülkü| Aşıkoğlu| 39|female| 75.8411| 107.0488|        1.0|\n",
      "|    Andrea|  Fuentes| 69|female|-18.4573|  46.6898|        1.0|\n",
      "|     Grace|    Adams| 24|female|-81.2294| 122.2057|        1.0|\n",
      "|      Olea| Birkedal| 41|female| 54.4272|  91.2478|        1.0|\n",
      "|   Yasemin|    Öymen| 70|female| 73.1539|  31.4908|        1.0|\n",
      "|    Rafael|   Dufour| 31|  male|  2.8694| -51.5714|        0.0|\n",
      "|   Roberto|    Wells| 23|  male| 19.9808|-129.1355|        0.0|\n",
      "|       Ray|  Freeman| 64|  male|-82.5291|-125.0900|        0.0|\n",
      "|    Olivia|    Adams| 29|female|  6.2956| 165.4988|        1.0|\n",
      "+----------+---------+---+------+--------+---------+-----------+\n",
      "only showing top 20 rows"
     ]
    }
   ],
   "source": [
    "from pyspark.ml.feature import StringIndexer\n",
    "\n",
    "indexer = StringIndexer(inputCol=\"gender\", outputCol=\"genderIndex\")\n",
    "indexed = indexer.fit(users.toDF()).transform(users.toDF())\n",
    "indexed.show()"
   ]
  },
  {
   "cell_type": "code",
   "execution_count": 19,
   "metadata": {},
   "outputs": [
    {
     "data": {
      "application/vnd.jupyter.widget-view+json": {
       "model_id": "",
       "version_major": 2,
       "version_minor": 0
      },
      "text/plain": [
       "FloatProgress(value=0.0, bar_style='info', description='Progress:', layout=Layout(height='25px', width='50%'),…"
      ]
     },
     "metadata": {},
     "output_type": "display_data"
    },
    {
     "name": "stdout",
     "output_type": "stream",
     "text": [
      "+----------+---------+---+--------+---------+------+\n",
      "|first_name|last_name|age|latitude|longitude|gender|\n",
      "+----------+---------+---+--------+---------+------+\n",
      "|      Jake|  Bradley| 71| 17.9325| -55.2647|   0.0|\n",
      "|     Hymke|       Hu| 59| 47.1300| 157.8048|   1.0|\n",
      "|      Jack|     Wong| 26|-67.9421|-118.7996|   0.0|\n",
      "|     Dylan|   Arnold| 33| 23.8569|-158.2738|   0.0|\n",
      "|     یاسمن|     گلشن| 60| 32.5081|  40.4050|   1.0|\n",
      "|     Jenny|   Leroux| 24|-49.2292| 155.5982|   1.0|\n",
      "|    Ceyhun|  Çamdalı| 65| 73.6430|-130.8003|   0.0|\n",
      "|      Milo|   Bonnet| 42| -3.3526| -45.2023|   0.0|\n",
      "|     Tyler|     Ross| 29| 15.5969|-105.8160|   0.0|\n",
      "|  Fernando|   Murray| 61|-83.4109|-129.3067|   0.0|\n",
      "|     Kuzey|Karabulut| 39| 77.5563| -82.6551|   0.0|\n",
      "|      Ülkü| Aşıkoğlu| 39| 75.8411| 107.0488|   1.0|\n",
      "|    Andrea|  Fuentes| 69|-18.4573|  46.6898|   1.0|\n",
      "|     Grace|    Adams| 24|-81.2294| 122.2057|   1.0|\n",
      "|      Olea| Birkedal| 41| 54.4272|  91.2478|   1.0|\n",
      "|   Yasemin|    Öymen| 70| 73.1539|  31.4908|   1.0|\n",
      "|    Rafael|   Dufour| 31|  2.8694| -51.5714|   0.0|\n",
      "|   Roberto|    Wells| 23| 19.9808|-129.1355|   0.0|\n",
      "|       Ray|  Freeman| 64|-82.5291|-125.0900|   0.0|\n",
      "|    Olivia|    Adams| 29|  6.2956| 165.4988|   1.0|\n",
      "+----------+---------+---+--------+---------+------+\n",
      "only showing top 20 rows"
     ]
    }
   ],
   "source": [
    "from awsglue.dynamicframe import DynamicFrame\n",
    "\n",
    "newDf = DynamicFrame.fromDF(indexed, glueContext, 'newDf')\n",
    "newDf = newDf.drop_fields([\"gender\"]).rename_field(\"genderIndex\", \"gender\")\n",
    "newDf.toDF().show()"
   ]
  },
  {
   "cell_type": "code",
   "execution_count": 20,
   "metadata": {},
   "outputs": [
    {
     "data": {
      "application/vnd.jupyter.widget-view+json": {
       "model_id": "",
       "version_major": 2,
       "version_minor": 0
      },
      "text/plain": [
       "FloatProgress(value=0.0, bar_style='info', description='Progress:', layout=Layout(height='25px', width='50%'),…"
      ]
     },
     "metadata": {},
     "output_type": "display_data"
    },
    {
     "name": "stdout",
     "output_type": "stream",
     "text": [
      "<awsglue.dynamicframe.DynamicFrame object at 0x7f100ade5f28>"
     ]
    }
   ],
   "source": [
    "glueContext.write_dynamic_frame.from_options(frame = newDf,\n",
    "              connection_type = \"s3\",\n",
    "              connection_options = {\"path\": \"s3://streaming-data-test-123dasdf3/processed-data\"},\n",
    "              format = \"csv\")"
   ]
  },
  {
   "cell_type": "code",
   "execution_count": null,
   "metadata": {},
   "outputs": [],
   "source": []
  }
 ],
 "metadata": {
  "kernelspec": {
   "display_name": "Sparkmagic (PySpark)",
   "language": "",
   "name": "pysparkkernel"
  },
  "language_info": {
   "codemirror_mode": {
    "name": "python",
    "version": 3
   },
   "mimetype": "text/x-python",
   "name": "pyspark",
   "pygments_lexer": "python3"
  }
 },
 "nbformat": 4,
 "nbformat_minor": 4
}
